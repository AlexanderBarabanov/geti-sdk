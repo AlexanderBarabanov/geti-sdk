{
 "cells": [
  {
   "cell_type": "markdown",
   "id": "9b328bbe-274d-4f76-8e71-f7f2ed17ebf9",
   "metadata": {},
   "source": [
    "# Asynchronous inference\n",
    "In this notebook, we will configure a model deployment for asynchronous inference.\n",
    "This notebook assumes that you are familiar with model deployments for local inference (if not, please have a look at [notebook 008](008_deploy_project.ipynb) first). "
   ]
  },
  {
   "cell_type": "code",
   "execution_count": null,
   "id": "1cb296d4-6086-4283-b215-b9d59e894fc8",
   "metadata": {},
   "outputs": [],
   "source": []
  }
 ],
 "metadata": {
  "kernelspec": {
   "display_name": "Python 3 (ipykernel)",
   "language": "python",
   "name": "python3"
  },
  "language_info": {
   "codemirror_mode": {
    "name": "ipython",
    "version": 3
   },
   "file_extension": ".py",
   "mimetype": "text/x-python",
   "name": "python",
   "nbconvert_exporter": "python",
   "pygments_lexer": "ipython3",
   "version": "3.9.19"
  }
 },
 "nbformat": 4,
 "nbformat_minor": 5
}
