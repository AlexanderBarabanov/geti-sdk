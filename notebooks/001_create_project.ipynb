{
 "cells": [
  {
   "cell_type": "markdown",
   "id": "e23e35ab-d1e1-44c7-8e3c-a1a35992d45b",
   "metadata": {},
   "source": [
    "# Creating a project\n",
    "In this notebook, we will use the `geti-sdk` package to create a project on the platform, and show examples of how to interact with it\n",
    "\n",
    "### Setting up the connection to the platform\n",
    "First, we set up the connection to the server. This is done by instantiating a Geti instance, with the hostname (or ip address) and authentication details for the server. The server details are stored in the `.env` file (see [the notebooks readme](README.md) for how to create one) and are loaded in the cell below."
   ]
  },
  {
   "cell_type": "code",
   "id": "3cb49dd2-7032-40e0-a4c2-8203ba1072bf",
   "metadata": {
    "ExecuteTime": {
     "end_time": "2024-11-20T15:40:38.773121Z",
     "start_time": "2024-11-20T15:40:38.769997Z"
    }
   },
   "source": [
    "from geti_sdk.utils import get_server_details_from_env\n",
    "\n",
    "geti_server_configuration = get_server_details_from_env()"
   ],
   "outputs": [],
   "execution_count": 67
  },
  {
   "cell_type": "markdown",
   "id": "28fd038b-a7f6-4163-8fd9-ecf08cfb22ef",
   "metadata": {},
   "source": [
    "Now that the server details are loaded we can connect to the server."
   ]
  },
  {
   "cell_type": "code",
   "id": "ba8318f4-3d97-4949-abf0-6cdafe46572e",
   "metadata": {
    "ExecuteTime": {
     "end_time": "2024-11-20T15:40:39.315746Z",
     "start_time": "2024-11-20T15:40:38.776172Z"
    }
   },
   "source": [
    "from geti_sdk import Geti\n",
    "\n",
    "geti = Geti(server_config=geti_server_configuration)"
   ],
   "outputs": [],
   "execution_count": 68
  },
  {
   "cell_type": "markdown",
   "id": "2f15d530-3e2b-42f3-aa21-6e31e57627cf",
   "metadata": {},
   "source": [
    "### Listing the projects currently in the workspace\n",
    "To create or view projects on the platform, we have to set up a ProjectClient using the Geti instance we just created. Once the ProjectClient is set up, we can use it to print a list of projects that our workspace currently holds."
   ]
  },
  {
   "cell_type": "code",
   "id": "081e700d-9e2e-4022-b4d6-dac3adf1d4f8",
   "metadata": {
    "ExecuteTime": {
     "end_time": "2024-11-20T15:40:39.940011Z",
     "start_time": "2024-11-20T15:40:39.327053Z"
    }
   },
   "source": [
    "from geti_sdk.rest_clients import ProjectClient\n",
    "\n",
    "project_client = ProjectClient(session=geti.session, workspace_id=geti.workspace_id)\n",
    "\n",
    "projects = project_client.list_projects()"
   ],
   "outputs": [
    {
     "name": "stdout",
     "output_type": "stream",
     "text": [
      "1 projects were found on the platform:\n",
      "\n",
      " Project: Segmentation demo\n",
      "  Task 1: Segmentation task\n",
      "    Labels: ['dog', 'cat', 'horse', 'Empty']\n",
      "\n",
      "\n"
     ]
    }
   ],
   "execution_count": 69
  },
  {
   "cell_type": "markdown",
   "id": "967575df-19be-4394-a8d6-23bd0d4fbdfd",
   "metadata": {},
   "source": [
    "### Project creation parameters\n",
    "To create a new project, we have to specify three things:\n",
    "1. The name of the project\n",
    "2. The type of the project\n",
    "3. The label names or properties for each task in the project\n",
    "\n",
    "##### Project name\n",
    "The project name is easy, this can be any string you like, as long as there is no existing project with that name yet.\n",
    "\n",
    "##### Project type\n",
    "The project type requires more explanation, since this controls the tasks that will be added to the project's pipeline. \n",
    "- To create a single task project, simply pass the type of the task you want as the `project_type`. For example, to create a project with a single classification task, pass `project_type=\"classification\"`\n",
    "- In addition, we can construct arbitrary pipelines by passing a string that conforms to the format `{type_of_task_1}_to_{type_of_task_2}`. So for example, to create a project that holds a detection task followed by a segmentation task, we would pass: `project_type=\"detection_to_segmentation\"`. To understand which task types are supported, we can have a look at the TaskType class from `geti_sdk`."
   ]
  },
  {
   "cell_type": "code",
   "id": "30e46136-5283-4e3d-8dcf-7a89bee4de6b",
   "metadata": {
    "ExecuteTime": {
     "end_time": "2024-11-20T15:40:39.963221Z",
     "start_time": "2024-11-20T15:40:39.961033Z"
    }
   },
   "source": [
    "from geti_sdk.data_models.enums import TaskType\n",
    "\n",
    "# Prints a list of the supported 'trainable' task types\n",
    "print(\"Supported task types:\")\n",
    "for task_type in TaskType:\n",
    "    if task_type.is_trainable:\n",
    "        print(\"  \" + str(task_type))"
   ],
   "outputs": [
    {
     "name": "stdout",
     "output_type": "stream",
     "text": [
      "Supported task types:\n",
      "  detection\n",
      "  segmentation\n",
      "  classification\n",
      "  anomaly_classification\n",
      "  anomaly_detection\n",
      "  anomaly_segmentation\n",
      "  anomaly\n",
      "  instance_segmentation\n",
      "  rotated_detection\n"
     ]
    }
   ],
   "execution_count": 70
  },
  {
   "cell_type": "markdown",
   "id": "05f75187-2acb-482f-b86c-f3cbbabd180d",
   "metadata": {
    "tags": []
   },
   "source": [
    "##### Labels\n",
    "The `labels` parameter takes a nested list of label names, or a nested list of dictionaries representing label properties. For example, suppose we want to make a single task classification project with labels 'person', 'dog' and 'car'. In that case we should pass `labels=[['person', 'dog', 'car']]`. \n",
    "\n",
    "The list is nested because each entry in the outermost list corresponds to the labels for one of the tasks in the pipeline. For example, suppose we want to create a pipeline project of type `detection_to_classification`, with a label 'animal' for the detection task and labels 'dog', 'cat', 'horse', 'cow' for the classification task. In that case we would pass `labels=[['animal'], ['dog', 'cat', 'horse', 'cow']]`. The first entry in the labels-list corresponds to the labels for the first task, the second entry to those for the second task in the pipeline and so on.\n",
    "\n",
    "In case more complicated relationships between labels are required, we can specify the labels as dictionaries with certain properties instead of simple strings containing only their names. For example, to create a single task hierarchical classification project to classify 'animals' and 'vehicles' into subcategories, we could pass the following: \n",
    "```json\n",
    "labels = [\n",
    "    [\n",
    "        {\"name\": \"animal\"}, \n",
    "        {\"name\": \"dog\", \"parent_id\": \"animal\"}, \n",
    "        {\"name\": \"cat\", \"parent_id\": \"animal\"}, \n",
    "        {\"name\": \"vehicle\"}, \n",
    "        {\"name\": \"car\", \"parent_id\": \"vehicle\"}, \n",
    "        {\"name\": \"taxi\", \"parent_id\": \"vehicle\"}, \n",
    "        {\"name\": \"truck\", \"parent_id\": \"vehicle\"}\n",
    "    ]\n",
    "]\n",
    "``` \n",
    "It is also possible to make a multi-label classification task (meaning multiple labels can be assigned to a single image) by using the \"group\" keyword in the label property dictionary. Labels in different groups will be treated as independent (i.e. non-exclusive) from each other. \n",
    "\n",
    "\n",
    "## Creating a simple project\n",
    "Now that we understand the parameters, let's go ahead and create a new project:"
   ]
  },
  {
   "cell_type": "code",
   "id": "b18c25d1-f53b-495e-a48e-ee89b7f95d4e",
   "metadata": {
    "ExecuteTime": {
     "end_time": "2024-11-20T15:40:39.978450Z",
     "start_time": "2024-11-20T15:40:39.976701Z"
    }
   },
   "source": [
    "# First set the project parameters. Feel free to experiment here!\n",
    "PROJECT_NAME = \"Segmentation demo\"\n",
    "PROJECT_TYPE = \"segmentation\"\n",
    "LABELS = [[\"dog\", \"cat\", \"horse\"]]"
   ],
   "outputs": [],
   "execution_count": 71
  },
  {
   "cell_type": "code",
   "id": "4941f712-f97b-48ff-a11b-74687d0bb49f",
   "metadata": {
    "ExecuteTime": {
     "end_time": "2024-11-20T15:40:40.600445Z",
     "start_time": "2024-11-20T15:40:39.993833Z"
    }
   },
   "source": [
    "# Now, use the project client to create the project\n",
    "project = project_client.create_project(\n",
    "    project_name=PROJECT_NAME, project_type=PROJECT_TYPE, labels=LABELS\n",
    ")"
   ],
   "outputs": [
    {
     "name": "stdout",
     "output_type": "stream",
     "text": [
      "2024-11-20 16:40:40,357 - INFO - Project created successfully.\n"
     ]
    }
   ],
   "execution_count": 72
  },
  {
   "cell_type": "markdown",
   "id": "1e8eace9-8cc2-4b8b-83a9-1376a7cd5666",
   "metadata": {},
   "source": [
    "## Interacting with the project\n",
    "The `Project` object that is returned by the `project_client.create_project()` method contains a representation of the project on the platform. There are several ways to interact with it. First of all, we can get a very brief `summary` of the project"
   ]
  },
  {
   "cell_type": "code",
   "id": "c9d3496b-663d-41d3-b381-5e05b4c8e5b0",
   "metadata": {
    "ExecuteTime": {
     "end_time": "2024-11-20T15:40:40.610576Z",
     "start_time": "2024-11-20T15:40:40.608611Z"
    }
   },
   "source": [
    "print(project.summary)"
   ],
   "outputs": [
    {
     "name": "stdout",
     "output_type": "stream",
     "text": [
      "Project: Segmentation demo\n",
      "  Task 1: Segmentation task\n",
      "    Labels: ['dog', 'cat', 'horse', 'Empty']\n",
      "\n"
     ]
    }
   ],
   "execution_count": 73
  },
  {
   "cell_type": "markdown",
   "id": "8b3b7b47-0171-41eb-97c1-c1a53b9a62c1",
   "metadata": {},
   "source": [
    "If we need to know more details, we can also look at the project `overview`"
   ]
  },
  {
   "cell_type": "code",
   "id": "8786e8df-3ecb-4947-ad71-c8512e0b22ac",
   "metadata": {
    "ExecuteTime": {
     "end_time": "2024-11-20T15:40:40.630251Z",
     "start_time": "2024-11-20T15:40:40.627690Z"
    }
   },
   "source": [
    "print(project.overview)"
   ],
   "outputs": [
    {
     "name": "stdout",
     "output_type": "stream",
     "text": [
      "{'datasets': [{'name': 'Dataset', 'use_for_training': True}],\n",
      " 'name': 'Segmentation demo',\n",
      " 'performance': {'task_performances': [{'task_id': '673e02f8f57f93285cef276f'}]},\n",
      " 'pipeline': {'connections': [{'from': 'Dataset', 'to': 'Segmentation task'}],\n",
      "              'tasks': [{'task_type': 'dataset', 'title': 'Dataset'},\n",
      "                        {'labels': [{'color': '#ffffffff',\n",
      "                                     'group': 'segmentation task label group',\n",
      "                                     'is_anomalous': False,\n",
      "                                     'is_empty': False,\n",
      "                                     'name': 'dog'},\n",
      "                                    {'color': '#ffffffff',\n",
      "                                     'group': 'segmentation task label group',\n",
      "                                     'is_anomalous': False,\n",
      "                                     'is_empty': False,\n",
      "                                     'name': 'cat'},\n",
      "                                    {'color': '#ffffffff',\n",
      "                                     'group': 'segmentation task label group',\n",
      "                                     'is_anomalous': False,\n",
      "                                     'is_empty': False,\n",
      "                                     'name': 'horse'},\n",
      "                                    {'color': '#000000ff',\n",
      "                                     'group': 'Empty',\n",
      "                                     'is_anomalous': False,\n",
      "                                     'is_empty': True,\n",
      "                                     'name': 'Empty'}],\n",
      "                         'task_type': 'segmentation',\n",
      "                         'title': 'Segmentation task'}]},\n",
      " 'storage_info': {}}\n"
     ]
    }
   ],
   "execution_count": 74
  },
  {
   "cell_type": "markdown",
   "id": "50bf6745-c83f-4967-9dec-c4d8a6f56e38",
   "metadata": {},
   "source": [
    "Finally, the `project` object also supports several methods to quickly access some of its properties, for example to get a list of all trainable tasks in the project simply use `project.get_trainable_tasks()`. This will prove useful later on when we want to do more complicated things on the platform, such as triggering or monitoring a training job."
   ]
  },
  {
   "cell_type": "code",
   "id": "01cb2ee6-9d45-4d17-aa6f-2ac0330ce369",
   "metadata": {
    "ExecuteTime": {
     "end_time": "2024-11-20T15:40:40.649417Z",
     "start_time": "2024-11-20T15:40:40.647367Z"
    }
   },
   "source": [
    "task_list = project.get_trainable_tasks()\n",
    "print(f\"Project '{project.name}' contains {len(task_list)} trainable tasks.\")\n",
    "for task in task_list:\n",
    "    print(task.summary)"
   ],
   "outputs": [
    {
     "name": "stdout",
     "output_type": "stream",
     "text": [
      "Project 'Segmentation demo' contains 1 trainable tasks.\n",
      "Task: Segmentation task\n",
      "  Type: segmentation \n",
      "  Labels:\n",
      "    Name: dog,  Group: segmentation task label group,  Parent: None\n",
      "    Name: cat,  Group: segmentation task label group,  Parent: None\n",
      "    Name: horse,  Group: segmentation task label group,  Parent: None\n",
      "    Name: Empty,  Group: Empty,  Parent: None\n",
      "\n"
     ]
    }
   ],
   "execution_count": 75
  },
  {
   "cell_type": "markdown",
   "id": "aa289ae0-36bb-40db-afb3-d1c89fb2a9e1",
   "metadata": {},
   "source": [
    "The `project` object that was created by the `project_client.create_project()` method can also be retrieved by calling `project_client.get_project()`. This is useful if you do not want to create a new project, but would like to interact with an existing project instead"
   ]
  },
  {
   "cell_type": "code",
   "id": "71dbcca8-b79e-441d-9143-091c2b08ba35",
   "metadata": {
    "ExecuteTime": {
     "end_time": "2024-11-20T15:40:41.401583Z",
     "start_time": "2024-11-20T15:40:40.673069Z"
    }
   },
   "source": [
    "project = project_client.get_project(project_name=PROJECT_NAME)\n",
    "print(project.summary)"
   ],
   "outputs": [
    {
     "ename": "ValueError",
     "evalue": "A total of 2 projects named `Segmentation demo` were found in the workspace. Unable to uniquely identify the desired project. Please provide a `project_id` to ensure the proper project is returned. The following projects were found:['Name: Segmentation demo,\\t Type: segmentation,\\t ID: 673e02f8f57f93285cef276c,\\t creation_date: 2024-11-20 15:40:40.217000+00:00\\n', 'Name: Segmentation demo,\\t Type: segmentation,\\t ID: 673e0204f57f93285cef2726,\\t creation_date: 2024-11-20 15:36:37.464000+00:00\\n']",
     "output_type": "error",
     "traceback": [
      "\u001B[0;31m---------------------------------------------------------------------------\u001B[0m",
      "\u001B[0;31mValueError\u001B[0m                                Traceback (most recent call last)",
      "Cell \u001B[0;32mIn[76], line 1\u001B[0m\n\u001B[0;32m----> 1\u001B[0m project \u001B[38;5;241m=\u001B[39m \u001B[43mproject_client\u001B[49m\u001B[38;5;241;43m.\u001B[39;49m\u001B[43mget_project\u001B[49m\u001B[43m(\u001B[49m\u001B[43mproject_name\u001B[49m\u001B[38;5;241;43m=\u001B[39;49m\u001B[43mPROJECT_NAME\u001B[49m\u001B[43m)\u001B[49m\n\u001B[1;32m      2\u001B[0m \u001B[38;5;28mprint\u001B[39m(project\u001B[38;5;241m.\u001B[39msummary)\n",
      "File \u001B[0;32m~/PycharmProjects/geti-sdk-upload-speed/geti-sdk/geti_sdk/rest_clients/project_client/project_client.py:714\u001B[0m, in \u001B[0;36mProjectClient.get_project\u001B[0;34m(self, project_name, project_id, project)\u001B[0m\n\u001B[1;32m    712\u001B[0m         \u001B[38;5;28;01mreturn\u001B[39;00m \u001B[38;5;28mself\u001B[39m\u001B[38;5;241m.\u001B[39mget_project_by_name(project_name\u001B[38;5;241m=\u001B[39mproject\u001B[38;5;241m.\u001B[39mname)\n\u001B[1;32m    713\u001B[0m \u001B[38;5;28;01melif\u001B[39;00m project_name \u001B[38;5;129;01mis\u001B[39;00m \u001B[38;5;129;01mnot\u001B[39;00m \u001B[38;5;28;01mNone\u001B[39;00m:\n\u001B[0;32m--> 714\u001B[0m     \u001B[38;5;28;01mreturn\u001B[39;00m \u001B[38;5;28;43mself\u001B[39;49m\u001B[38;5;241;43m.\u001B[39;49m\u001B[43mget_project_by_name\u001B[49m\u001B[43m(\u001B[49m\u001B[43mproject_name\u001B[49m\u001B[38;5;241;43m=\u001B[39;49m\u001B[43mproject_name\u001B[49m\u001B[43m)\u001B[49m\n\u001B[1;32m    715\u001B[0m \u001B[38;5;28;01melse\u001B[39;00m:\n\u001B[1;32m    716\u001B[0m     \u001B[38;5;66;03m# No parameters provided\u001B[39;00m\n\u001B[1;32m    717\u001B[0m     \u001B[38;5;66;03m# Warn the user and return None\u001B[39;00m\n\u001B[1;32m    718\u001B[0m     warnings\u001B[38;5;241m.\u001B[39mwarn(\n\u001B[1;32m    719\u001B[0m         \u001B[38;5;124m\"\u001B[39m\u001B[38;5;124mAt least one of the parameters `project_name`, `project_id`, or \u001B[39m\u001B[38;5;124m\"\u001B[39m\n\u001B[1;32m    720\u001B[0m         \u001B[38;5;124m\"\u001B[39m\u001B[38;5;124m`project` must be provided.\u001B[39m\u001B[38;5;124m\"\u001B[39m\n\u001B[1;32m    721\u001B[0m     )\n",
      "File \u001B[0;32m~/PycharmProjects/geti-sdk-upload-speed/geti-sdk/geti_sdk/rest_clients/project_client/project_client.py:146\u001B[0m, in \u001B[0;36mProjectClient.get_project_by_name\u001B[0;34m(self, project_name)\u001B[0m\n\u001B[1;32m    138\u001B[0m     detailed_matches \u001B[38;5;241m=\u001B[39m [\u001B[38;5;28mself\u001B[39m\u001B[38;5;241m.\u001B[39mget_project_by_id(match\u001B[38;5;241m.\u001B[39mid) \u001B[38;5;28;01mfor\u001B[39;00m match \u001B[38;5;129;01min\u001B[39;00m matches]\n\u001B[1;32m    139\u001B[0m     projects_info \u001B[38;5;241m=\u001B[39m [\n\u001B[1;32m    140\u001B[0m         (\n\u001B[1;32m    141\u001B[0m             \u001B[38;5;124mf\u001B[39m\u001B[38;5;124m\"\u001B[39m\u001B[38;5;124mName: \u001B[39m\u001B[38;5;132;01m{\u001B[39;00mp\u001B[38;5;241m.\u001B[39mname\u001B[38;5;132;01m}\u001B[39;00m\u001B[38;5;124m,\u001B[39m\u001B[38;5;130;01m\\t\u001B[39;00m\u001B[38;5;124m Type: \u001B[39m\u001B[38;5;132;01m{\u001B[39;00mp\u001B[38;5;241m.\u001B[39mproject_type\u001B[38;5;132;01m}\u001B[39;00m\u001B[38;5;124m,\u001B[39m\u001B[38;5;130;01m\\t\u001B[39;00m\u001B[38;5;124m ID: \u001B[39m\u001B[38;5;132;01m{\u001B[39;00mp\u001B[38;5;241m.\u001B[39mid\u001B[38;5;132;01m}\u001B[39;00m\u001B[38;5;124m,\u001B[39m\u001B[38;5;130;01m\\t\u001B[39;00m\u001B[38;5;124m \u001B[39m\u001B[38;5;124m\"\u001B[39m\n\u001B[0;32m   (...)\u001B[0m\n\u001B[1;32m    144\u001B[0m         \u001B[38;5;28;01mfor\u001B[39;00m p \u001B[38;5;129;01min\u001B[39;00m detailed_matches\n\u001B[1;32m    145\u001B[0m     ]\n\u001B[0;32m--> 146\u001B[0m     \u001B[38;5;28;01mraise\u001B[39;00m \u001B[38;5;167;01mValueError\u001B[39;00m(\n\u001B[1;32m    147\u001B[0m         \u001B[38;5;124mf\u001B[39m\u001B[38;5;124m\"\u001B[39m\u001B[38;5;124mA total of \u001B[39m\u001B[38;5;132;01m{\u001B[39;00m\u001B[38;5;28mlen\u001B[39m(matches)\u001B[38;5;132;01m}\u001B[39;00m\u001B[38;5;124m projects named `\u001B[39m\u001B[38;5;132;01m{\u001B[39;00mproject_name\u001B[38;5;132;01m}\u001B[39;00m\u001B[38;5;124m` were \u001B[39m\u001B[38;5;124m\"\u001B[39m\n\u001B[1;32m    148\u001B[0m         \u001B[38;5;124mf\u001B[39m\u001B[38;5;124m\"\u001B[39m\u001B[38;5;124mfound in the workspace. Unable to uniquely identify the \u001B[39m\u001B[38;5;124m\"\u001B[39m\n\u001B[1;32m    149\u001B[0m         \u001B[38;5;124mf\u001B[39m\u001B[38;5;124m\"\u001B[39m\u001B[38;5;124mdesired project. Please provide a `project_id` to ensure the \u001B[39m\u001B[38;5;124m\"\u001B[39m\n\u001B[1;32m    150\u001B[0m         \u001B[38;5;124mf\u001B[39m\u001B[38;5;124m\"\u001B[39m\u001B[38;5;124mproper project is returned. The following projects were found:\u001B[39m\u001B[38;5;124m\"\u001B[39m\n\u001B[1;32m    151\u001B[0m         \u001B[38;5;124mf\u001B[39m\u001B[38;5;124m\"\u001B[39m\u001B[38;5;132;01m{\u001B[39;00mprojects_info\u001B[38;5;132;01m}\u001B[39;00m\u001B[38;5;124m\"\u001B[39m\n\u001B[1;32m    152\u001B[0m     )\n\u001B[1;32m    153\u001B[0m \u001B[38;5;28;01melse\u001B[39;00m:\n\u001B[1;32m    154\u001B[0m     warnings\u001B[38;5;241m.\u001B[39mwarn(\n\u001B[1;32m    155\u001B[0m         \u001B[38;5;124mf\u001B[39m\u001B[38;5;124m\"\u001B[39m\u001B[38;5;124mProject with name \u001B[39m\u001B[38;5;132;01m{\u001B[39;00mproject_name\u001B[38;5;132;01m}\u001B[39;00m\u001B[38;5;124m was not found on the server.\u001B[39m\u001B[38;5;124m\"\u001B[39m\n\u001B[1;32m    156\u001B[0m     )\n",
      "\u001B[0;31mValueError\u001B[0m: A total of 2 projects named `Segmentation demo` were found in the workspace. Unable to uniquely identify the desired project. Please provide a `project_id` to ensure the proper project is returned. The following projects were found:['Name: Segmentation demo,\\t Type: segmentation,\\t ID: 673e02f8f57f93285cef276c,\\t creation_date: 2024-11-20 15:40:40.217000+00:00\\n', 'Name: Segmentation demo,\\t Type: segmentation,\\t ID: 673e0204f57f93285cef2726,\\t creation_date: 2024-11-20 15:36:37.464000+00:00\\n']"
     ]
    }
   ],
   "execution_count": 76
  },
  {
   "cell_type": "markdown",
   "id": "9b4a3486-929d-4ffe-8123-cbc695260894",
   "metadata": {},
   "source": [
    "## Creating a more complex project\n",
    "Now that we created a simple project, let's try our hand at something more complex. In the cell below, we will set the parameters to create a detection -> classification project, with hierarchical labels for the classification task. The detection task will have the label `vehicle`, while the classification task will contain hierarchical labels to narrow down the precise vehicle category. "
   ]
  },
  {
   "cell_type": "code",
   "id": "9c20a99c-07b6-4cc2-87fa-abf0ba210031",
   "metadata": {
    "ExecuteTime": {
     "end_time": "2024-11-20T15:42:02.938169Z",
     "start_time": "2024-11-20T15:42:02.935176Z"
    }
   },
   "source": [
    "PIPELINE_PROJECT_NAME = \"Detection to hierarchical classification demo\"\n",
    "PIPELINE_PROJECT_TYPE = \"detection_to_classification\"\n",
    "PIPELINE_LABELS = [\n",
    "    [\"vehicle\"],\n",
    "    [\n",
    "        \"car\",\n",
    "        {\"name\": \"taxi\", \"parent_id\": \"car\", \"group\": \"car\"},\n",
    "        {\"name\": \"pick-up\", \"parent_id\": \"car\", \"group\": \"car\"},\n",
    "        {\"name\": \"sports car\", \"parent_id\": \"car\", \"group\": \"car\"},\n",
    "        \"truck\",\n",
    "        \"bus\",\n",
    "        {\"name\": \"van\", \"parent_id\": \"bus\", \"group\": \"bus\"},\n",
    "        {\"name\": \"school bus\", \"parent_id\": \"bus\", \"group\": \"bus\"},\n",
    "    ],\n",
    "]"
   ],
   "outputs": [],
   "execution_count": 88
  },
  {
   "cell_type": "code",
   "id": "01d01757-035c-4690-86f0-2f40487a6c52",
   "metadata": {
    "ExecuteTime": {
     "end_time": "2024-11-20T15:42:03.632038Z",
     "start_time": "2024-11-20T15:42:02.957541Z"
    }
   },
   "source": [
    "pipeline_project = project_client.create_project(\n",
    "    project_name=PIPELINE_PROJECT_NAME,\n",
    "    project_type=PIPELINE_PROJECT_TYPE,\n",
    "    labels=PIPELINE_LABELS,\n",
    ")"
   ],
   "outputs": [
    {
     "name": "stdout",
     "output_type": "stream",
     "text": [
      "2024-11-20 16:42:03,357 - INFO - Project created successfully.\n"
     ]
    }
   ],
   "execution_count": 89
  },
  {
   "cell_type": "markdown",
   "id": "78d77759-9003-4359-91e5-ba2898897c3c",
   "metadata": {},
   "source": [
    "Let's look at the project summary again:"
   ]
  },
  {
   "cell_type": "code",
   "id": "71a5b21f-edf6-4be4-8e86-08db768040f2",
   "metadata": {
    "ExecuteTime": {
     "end_time": "2024-11-20T15:42:03.642724Z",
     "start_time": "2024-11-20T15:42:03.640665Z"
    }
   },
   "source": [
    "print(pipeline_project.summary)"
   ],
   "outputs": [
    {
     "name": "stdout",
     "output_type": "stream",
     "text": [
      "Project: Detection to hierarchical classification demo\n",
      "  Task 1: Detection task\n",
      "    Labels: ['vehicle', 'No object']\n",
      "  Task 2: Classification task\n",
      "    Labels: ['car', 'taxi', 'pick-up', 'sports car', 'truck', 'bus', 'van', 'school bus']\n",
      "\n"
     ]
    }
   ],
   "execution_count": 90
  },
  {
   "cell_type": "markdown",
   "id": "7583c3e6-25c3-4517-89dd-87454d1c7fb6",
   "metadata": {},
   "source": [
    "Note that the project summary does not include the information regarding label hierarchies. If we want to be sure that the hierarchical label structure has been set up correctly, we can use `project.overview` for a more detailed view of the project:"
   ]
  },
  {
   "cell_type": "code",
   "id": "d23f29b8-056d-476a-a244-5f7355e00743",
   "metadata": {
    "ExecuteTime": {
     "end_time": "2024-11-20T15:42:03.660071Z",
     "start_time": "2024-11-20T15:42:03.656606Z"
    }
   },
   "source": [
    "print(pipeline_project.overview)"
   ],
   "outputs": [
    {
     "name": "stdout",
     "output_type": "stream",
     "text": [
      "{'datasets': [{'name': 'Dataset', 'use_for_training': True}],\n",
      " 'name': 'Detection to hierarchical classification demo',\n",
      " 'performance': {'task_performances': [{'task_id': '673e034bf57f93285cef27b5'},\n",
      "                                       {'task_id': '673e034bf57f93285cef27ba'}]},\n",
      " 'pipeline': {'connections': [{'from': 'Dataset', 'to': 'Detection task'},\n",
      "                              {'from': 'Detection task', 'to': 'Crop task'},\n",
      "                              {'from': 'Crop task',\n",
      "                               'to': 'Classification task'}],\n",
      "              'tasks': [{'task_type': 'dataset', 'title': 'Dataset'},\n",
      "                        {'labels': [{'color': '#ffffffff',\n",
      "                                     'group': 'detection task label group',\n",
      "                                     'is_anomalous': False,\n",
      "                                     'is_empty': False,\n",
      "                                     'name': 'vehicle'},\n",
      "                                    {'color': '#000000ff',\n",
      "                                     'group': 'No object',\n",
      "                                     'is_anomalous': False,\n",
      "                                     'is_empty': True,\n",
      "                                     'name': 'No object'}],\n",
      "                         'task_type': 'detection',\n",
      "                         'title': 'Detection task'},\n",
      "                        {'task_type': 'crop', 'title': 'Crop task'},\n",
      "                        {'labels': [{'color': '#ffffffff',\n",
      "                                     'group': 'classification task label group',\n",
      "                                     'is_anomalous': False,\n",
      "                                     'is_empty': False,\n",
      "                                     'name': 'car',\n",
      "                                     'parent_id': 'vehicle'},\n",
      "                                    {'color': '#ffffffff',\n",
      "                                     'group': 'car',\n",
      "                                     'is_anomalous': False,\n",
      "                                     'is_empty': False,\n",
      "                                     'name': 'taxi',\n",
      "                                     'parent_id': 'car'},\n",
      "                                    {'color': '#ffffffff',\n",
      "                                     'group': 'car',\n",
      "                                     'is_anomalous': False,\n",
      "                                     'is_empty': False,\n",
      "                                     'name': 'pick-up',\n",
      "                                     'parent_id': 'car'},\n",
      "                                    {'color': '#ffffffff',\n",
      "                                     'group': 'car',\n",
      "                                     'is_anomalous': False,\n",
      "                                     'is_empty': False,\n",
      "                                     'name': 'sports car',\n",
      "                                     'parent_id': 'car'},\n",
      "                                    {'color': '#ffffffff',\n",
      "                                     'group': 'classification task label group',\n",
      "                                     'is_anomalous': False,\n",
      "                                     'is_empty': False,\n",
      "                                     'name': 'truck',\n",
      "                                     'parent_id': 'vehicle'},\n",
      "                                    {'color': '#ffffffff',\n",
      "                                     'group': 'classification task label group',\n",
      "                                     'is_anomalous': False,\n",
      "                                     'is_empty': False,\n",
      "                                     'name': 'bus',\n",
      "                                     'parent_id': 'vehicle'},\n",
      "                                    {'color': '#ffffffff',\n",
      "                                     'group': 'bus',\n",
      "                                     'is_anomalous': False,\n",
      "                                     'is_empty': False,\n",
      "                                     'name': 'van',\n",
      "                                     'parent_id': 'bus'},\n",
      "                                    {'color': '#ffffffff',\n",
      "                                     'group': 'bus',\n",
      "                                     'is_anomalous': False,\n",
      "                                     'is_empty': False,\n",
      "                                     'name': 'school bus',\n",
      "                                     'parent_id': 'bus'}],\n",
      "                         'task_type': 'classification',\n",
      "                         'title': 'Classification task'}]},\n",
      " 'storage_info': {}}\n"
     ]
    }
   ],
   "execution_count": 91
  },
  {
   "cell_type": "markdown",
   "id": "2177233c-285f-400e-9f85-1e2db94563b6",
   "metadata": {},
   "source": [
    "If you look carefully at the overview, you will note that the top-level classification labels (`car`, `truck` and `bus`) have been assigned the parent `vehicle`, from the detection task preceding the classification task. Furthermore, the `car` and `bus` classes have their subcategories assigned as we specified. \n",
    "\n",
    "Of course, you can also check the project in the UI for a more visual representation.\n",
    "\n",
    "## Cleaning up\n",
    "To clean up the workspace, let's delete the projects that we just created. The project client provides a method for this `project_client.delete_project`. You can pass either the name of the project or the `Project` object to it. \n",
    "\n",
    "To delete the project, uncomment the line that states `project_client.delete_project(project)` and run the code cell below."
   ]
  },
  {
   "cell_type": "code",
   "id": "e2a2548a-8f84-4395-bdf7-8a4ebf3447a3",
   "metadata": {
    "ExecuteTime": {
     "end_time": "2024-11-20T15:42:03.669615Z",
     "start_time": "2024-11-20T15:42:03.668029Z"
    }
   },
   "source": [
    "# Delete the simple project\n",
    "\n",
    "# project_client.delete_project(project)"
   ],
   "outputs": [],
   "execution_count": 92
  },
  {
   "cell_type": "markdown",
   "id": "c833113a-5364-40f6-b77c-42c915cb95e7",
   "metadata": {},
   "source": [
    "As you have probably noticed, the method will ask for confirmation before deleting the project. The reason for this is that deleting a project is not something to do lightly, it will remove all media, annotations and models contained in the project from the platform. Deleting a project is irreversible.\n",
    "\n",
    "However, it is possible to skip the confirmation if you are sure you know what you are doing. The code cell below shows how to delete a project immediately, without any user input."
   ]
  },
  {
   "cell_type": "code",
   "id": "ab209bce-5195-4f40-9d40-032af0bb5031",
   "metadata": {
    "ExecuteTime": {
     "end_time": "2024-11-20T15:42:03.857462Z",
     "start_time": "2024-11-20T15:42:03.679525Z"
    }
   },
   "source": [
    "# Delete the pipeline project\n",
    "\n",
    "# project_client.delete_project(pipeline_project, requires_confirmation=False)"
   ],
   "outputs": [
    {
     "ename": "GetiRequestException",
     "evalue": "DELETE request to 'https://10-55-252-41.iotg.sclab.intel.com/api/v1/organizations/6c0a38b5-af1e-4167-810d-449aff2f92a5/workspaces/c33609cf-4e3f-4f6b-b464-1671ed4543c9/projects/673e034bf57f93285cef27b2' failed with status code 403.",
     "output_type": "error",
     "traceback": [
      "\u001B[0;31m---------------------------------------------------------------------------\u001B[0m",
      "\u001B[0;31mGetiRequestException\u001B[0m                      Traceback (most recent call last)",
      "Cell \u001B[0;32mIn[93], line 2\u001B[0m\n\u001B[1;32m      1\u001B[0m \u001B[38;5;66;03m# Delete the pipeline project\u001B[39;00m\n\u001B[0;32m----> 2\u001B[0m \u001B[43mproject_client\u001B[49m\u001B[38;5;241;43m.\u001B[39;49m\u001B[43mdelete_project\u001B[49m\u001B[43m(\u001B[49m\u001B[43mpipeline_project\u001B[49m\u001B[43m,\u001B[49m\u001B[43m \u001B[49m\u001B[43mrequires_confirmation\u001B[49m\u001B[38;5;241;43m=\u001B[39;49m\u001B[38;5;28;43;01mFalse\u001B[39;49;00m\u001B[43m)\u001B[49m\n",
      "File \u001B[0;32m~/PycharmProjects/geti-sdk-upload-speed/geti-sdk/geti_sdk/rest_clients/project_client/project_client.py:554\u001B[0m, in \u001B[0;36mProjectClient.delete_project\u001B[0;34m(self, project, requires_confirmation)\u001B[0m\n\u001B[1;32m    548\u001B[0m         \u001B[38;5;28;01mraise\u001B[39;00m \u001B[38;5;167;01mValueError\u001B[39;00m(\n\u001B[1;32m    549\u001B[0m             \u001B[38;5;124mf\u001B[39m\u001B[38;5;124m\"\u001B[39m\u001B[38;5;124mProject \u001B[39m\u001B[38;5;132;01m{\u001B[39;00mproject\u001B[38;5;241m.\u001B[39mname\u001B[38;5;132;01m}\u001B[39;00m\u001B[38;5;124m is locked for deletion/modification. \u001B[39m\u001B[38;5;124m\"\u001B[39m\n\u001B[1;32m    550\u001B[0m             \u001B[38;5;124mf\u001B[39m\u001B[38;5;124m\"\u001B[39m\u001B[38;5;124mPlease wait until all jobs related to this project are finished \u001B[39m\u001B[38;5;124m\"\u001B[39m\n\u001B[1;32m    551\u001B[0m             \u001B[38;5;124mf\u001B[39m\u001B[38;5;124m\"\u001B[39m\u001B[38;5;124mor cancel them to allow deletion/modification.\u001B[39m\u001B[38;5;124m\"\u001B[39m\n\u001B[1;32m    552\u001B[0m         )\n\u001B[1;32m    553\u001B[0m     \u001B[38;5;28;01melse\u001B[39;00m:\n\u001B[0;32m--> 554\u001B[0m         \u001B[38;5;28;01mraise\u001B[39;00m error\n\u001B[1;32m    555\u001B[0m logging\u001B[38;5;241m.\u001B[39minfo(\u001B[38;5;124mf\u001B[39m\u001B[38;5;124m\"\u001B[39m\u001B[38;5;124mProject \u001B[39m\u001B[38;5;124m'\u001B[39m\u001B[38;5;132;01m{\u001B[39;00mproject\u001B[38;5;241m.\u001B[39mname\u001B[38;5;132;01m}\u001B[39;00m\u001B[38;5;124m'\u001B[39m\u001B[38;5;124m deleted successfully.\u001B[39m\u001B[38;5;124m\"\u001B[39m)\n",
      "File \u001B[0;32m~/PycharmProjects/geti-sdk-upload-speed/geti-sdk/geti_sdk/rest_clients/project_client/project_client.py:543\u001B[0m, in \u001B[0;36mProjectClient.delete_project\u001B[0;34m(self, project, requires_confirmation)\u001B[0m\n\u001B[1;32m    541\u001B[0m         \u001B[38;5;28;01mreturn\u001B[39;00m\n\u001B[1;32m    542\u001B[0m \u001B[38;5;28;01mtry\u001B[39;00m:\n\u001B[0;32m--> 543\u001B[0m     \u001B[38;5;28;43mself\u001B[39;49m\u001B[38;5;241;43m.\u001B[39;49m\u001B[43msession\u001B[49m\u001B[38;5;241;43m.\u001B[39;49m\u001B[43mget_rest_response\u001B[49m\u001B[43m(\u001B[49m\n\u001B[1;32m    544\u001B[0m \u001B[43m        \u001B[49m\u001B[43murl\u001B[49m\u001B[38;5;241;43m=\u001B[39;49m\u001B[38;5;124;43mf\u001B[39;49m\u001B[38;5;124;43m\"\u001B[39;49m\u001B[38;5;132;43;01m{\u001B[39;49;00m\u001B[38;5;28;43mself\u001B[39;49m\u001B[38;5;241;43m.\u001B[39;49m\u001B[43mbase_url\u001B[49m\u001B[38;5;132;43;01m}\u001B[39;49;00m\u001B[38;5;124;43mprojects/\u001B[39;49m\u001B[38;5;132;43;01m{\u001B[39;49;00m\u001B[43mproject\u001B[49m\u001B[38;5;241;43m.\u001B[39;49m\u001B[43mid\u001B[49m\u001B[38;5;132;43;01m}\u001B[39;49;00m\u001B[38;5;124;43m\"\u001B[39;49m\u001B[43m,\u001B[49m\u001B[43m \u001B[49m\u001B[43mmethod\u001B[49m\u001B[38;5;241;43m=\u001B[39;49m\u001B[38;5;124;43m\"\u001B[39;49m\u001B[38;5;124;43mDELETE\u001B[39;49m\u001B[38;5;124;43m\"\u001B[39;49m\n\u001B[1;32m    545\u001B[0m \u001B[43m    \u001B[49m\u001B[43m)\u001B[49m\n\u001B[1;32m    546\u001B[0m \u001B[38;5;28;01mexcept\u001B[39;00m GetiRequestException \u001B[38;5;28;01mas\u001B[39;00m error:\n\u001B[1;32m    547\u001B[0m     \u001B[38;5;28;01mif\u001B[39;00m error\u001B[38;5;241m.\u001B[39mstatus_code \u001B[38;5;241m==\u001B[39m \u001B[38;5;241m409\u001B[39m:\n",
      "File \u001B[0;32m~/PycharmProjects/geti-sdk-upload-speed/geti-sdk/geti_sdk/http_session/geti_session.py:334\u001B[0m, in \u001B[0;36mGetiSession.get_rest_response\u001B[0;34m(self, url, method, contenttype, data, allow_reauthentication, include_organization_id, allow_text_response, request_headers)\u001B[0m\n\u001B[1;32m    330\u001B[0m response_content_type \u001B[38;5;241m=\u001B[39m response\u001B[38;5;241m.\u001B[39mheaders\u001B[38;5;241m.\u001B[39mget(\u001B[38;5;124m\"\u001B[39m\u001B[38;5;124mContent-Type\u001B[39m\u001B[38;5;124m\"\u001B[39m, [])\n\u001B[1;32m    331\u001B[0m \u001B[38;5;28;01mif\u001B[39;00m response\u001B[38;5;241m.\u001B[39mstatus_code \u001B[38;5;129;01mnot\u001B[39;00m \u001B[38;5;129;01min\u001B[39;00m SUCCESS_STATUS_CODES \u001B[38;5;129;01mor\u001B[39;00m (\n\u001B[1;32m    332\u001B[0m     \u001B[38;5;124m\"\u001B[39m\u001B[38;5;124mtext/html\u001B[39m\u001B[38;5;124m\"\u001B[39m \u001B[38;5;129;01min\u001B[39;00m response_content_type \u001B[38;5;129;01mand\u001B[39;00m \u001B[38;5;129;01mnot\u001B[39;00m allow_text_response\n\u001B[1;32m    333\u001B[0m ):\n\u001B[0;32m--> 334\u001B[0m     response \u001B[38;5;241m=\u001B[39m \u001B[38;5;28;43mself\u001B[39;49m\u001B[38;5;241;43m.\u001B[39;49m\u001B[43m_handle_error_response\u001B[49m\u001B[43m(\u001B[49m\n\u001B[1;32m    335\u001B[0m \u001B[43m        \u001B[49m\u001B[43mresponse\u001B[49m\u001B[38;5;241;43m=\u001B[39;49m\u001B[43mresponse\u001B[49m\u001B[43m,\u001B[49m\n\u001B[1;32m    336\u001B[0m \u001B[43m        \u001B[49m\u001B[43mrequest_params\u001B[49m\u001B[38;5;241;43m=\u001B[39;49m\u001B[43mrequest_params\u001B[49m\u001B[43m,\u001B[49m\n\u001B[1;32m    337\u001B[0m \u001B[43m        \u001B[49m\u001B[43mrequest_data\u001B[49m\u001B[38;5;241;43m=\u001B[39;49m\u001B[43mkw_data_arg\u001B[49m\u001B[43m,\u001B[49m\n\u001B[1;32m    338\u001B[0m \u001B[43m        \u001B[49m\u001B[43mallow_reauthentication\u001B[49m\u001B[38;5;241;43m=\u001B[39;49m\u001B[43mallow_reauthentication\u001B[49m\u001B[43m,\u001B[49m\n\u001B[1;32m    339\u001B[0m \u001B[43m        \u001B[49m\u001B[43mcontent_type\u001B[49m\u001B[38;5;241;43m=\u001B[39;49m\u001B[43mcontenttype\u001B[49m\u001B[43m,\u001B[49m\n\u001B[1;32m    340\u001B[0m \u001B[43m    \u001B[49m\u001B[43m)\u001B[49m\n\u001B[1;32m    341\u001B[0m \u001B[38;5;28;01mif\u001B[39;00m response\u001B[38;5;241m.\u001B[39mheaders\u001B[38;5;241m.\u001B[39mget(\u001B[38;5;124m\"\u001B[39m\u001B[38;5;124mContent-Type\u001B[39m\u001B[38;5;124m\"\u001B[39m, \u001B[38;5;124m\"\u001B[39m\u001B[38;5;124m\"\u001B[39m)\u001B[38;5;241m.\u001B[39mstartswith(\u001B[38;5;124m\"\u001B[39m\u001B[38;5;124mapplication/json\u001B[39m\u001B[38;5;124m\"\u001B[39m):\n\u001B[1;32m    342\u001B[0m     result \u001B[38;5;241m=\u001B[39m response\u001B[38;5;241m.\u001B[39mjson()\n",
      "File \u001B[0;32m~/PycharmProjects/geti-sdk-upload-speed/geti-sdk/geti_sdk/http_session/geti_session.py:510\u001B[0m, in \u001B[0;36mGetiSession._handle_error_response\u001B[0;34m(self, response, request_params, request_data, allow_reauthentication, content_type)\u001B[0m\n\u001B[1;32m    507\u001B[0m \u001B[38;5;28;01mexcept\u001B[39;00m (JSONDecodeError, simplejson\u001B[38;5;241m.\u001B[39merrors\u001B[38;5;241m.\u001B[39mJSONDecodeError):\n\u001B[1;32m    508\u001B[0m     response_data \u001B[38;5;241m=\u001B[39m \u001B[38;5;28;01mNone\u001B[39;00m\n\u001B[0;32m--> 510\u001B[0m \u001B[38;5;28;01mraise\u001B[39;00m GetiRequestException(\n\u001B[1;32m    511\u001B[0m     method\u001B[38;5;241m=\u001B[39mrequest_params[\u001B[38;5;124m\"\u001B[39m\u001B[38;5;124mmethod\u001B[39m\u001B[38;5;124m\"\u001B[39m],\n\u001B[1;32m    512\u001B[0m     url\u001B[38;5;241m=\u001B[39mrequest_params[\u001B[38;5;124m\"\u001B[39m\u001B[38;5;124murl\u001B[39m\u001B[38;5;124m\"\u001B[39m],\n\u001B[1;32m    513\u001B[0m     status_code\u001B[38;5;241m=\u001B[39mresponse\u001B[38;5;241m.\u001B[39mstatus_code,\n\u001B[1;32m    514\u001B[0m     request_data\u001B[38;5;241m=\u001B[39mrequest_data,\n\u001B[1;32m    515\u001B[0m     response_data\u001B[38;5;241m=\u001B[39mresponse_data,\n\u001B[1;32m    516\u001B[0m )\n",
      "\u001B[0;31mGetiRequestException\u001B[0m: DELETE request to 'https://10-55-252-41.iotg.sclab.intel.com/api/v1/organizations/6c0a38b5-af1e-4167-810d-449aff2f92a5/workspaces/c33609cf-4e3f-4f6b-b464-1671ed4543c9/projects/673e034bf57f93285cef27b2' failed with status code 403."
     ]
    }
   ],
   "execution_count": 93
  },
  {
   "cell_type": "code",
   "execution_count": null,
   "id": "fa885dd0-b669-4c83-b6b2-bbde010144cd",
   "metadata": {},
   "outputs": [],
   "source": []
  }
 ],
 "metadata": {
  "kernelspec": {
   "display_name": "Python 3 (ipykernel)",
   "language": "python",
   "name": "python3"
  },
  "language_info": {
   "codemirror_mode": {
    "name": "ipython",
    "version": 3
   },
   "file_extension": ".py",
   "mimetype": "text/x-python",
   "name": "python",
   "nbconvert_exporter": "python",
   "pygments_lexer": "ipython3",
   "version": "3.10.12"
  }
 },
 "nbformat": 4,
 "nbformat_minor": 5
}
