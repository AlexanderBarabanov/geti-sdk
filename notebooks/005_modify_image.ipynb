{
 "cells": [
  {
   "cell_type": "markdown",
   "id": "b77566cf-6281-42b0-8cad-516fdfb9f325",
   "metadata": {},
   "source": [
    "# Modifying an image in a project\n",
    "In this notebook we'll show how to take a single (annotated) image from a project, and modify it by converting it to grayscale. \n",
    "\n",
    "True in-place modification of images in the project is not possible, so we'll take a step by step approach: First we'll download the image, then convert it to grayscale on our local machine and then upload it again. Finally, we'll have to take the annotation from the original image and apply it to the grayscale image we created. "
   ]
  },
  {
   "cell_type": "code",
   "execution_count": 2,
   "id": "4ff821d8-1449-4d50-8998-24687f2e4834",
   "metadata": {},
   "outputs": [
    {
     "name": "stdout",
     "output_type": "stream",
     "text": [
      "Authenticating on host https://10.91.242.203/...\n",
      "Authentication successful. Cookie received.\n"
     ]
    }
   ],
   "source": [
    "# As usual we'll connnect to the platform first, and create the project manager\n",
    "\n",
    "from sc_api_tools import SCRESTClient\n",
    "from sc_api_tools.rest_managers import ProjectManager\n",
    "\n",
    "client = SCRESTClient(\n",
    "    host='https://10.91.242.203/',\n",
    "    username='sc-api-tools@intel.com',\n",
    "    password='Inteldemos!'\n",
    ")\n",
    "project_manager = ProjectManager(session=client.session, workspace_id=client.workspace_id)"
   ]
  },
  {
   "cell_type": "markdown",
   "id": "fdf5d871-6d95-402e-b8fa-45cdf65195cc",
   "metadata": {},
   "source": [
    "## Getting a project\n",
    "First, let's get a project to work with. You can either create a new, COCO-based project with a few images and annotations, or select an existing project from the workspace.\n",
    "\n",
    "#### Option 1: Creating a new project\n",
    "Execute the next two code cells if you'd like to create a new project"
   ]
  },
  {
   "cell_type": "code",
   "execution_count": 3,
   "id": "cb02443b-41e4-4b81-8294-2a9175241daa",
   "metadata": {},
   "outputs": [
    {
     "name": "stdout",
     "output_type": "stream",
     "text": [
      "COCO dataset (subset: val2017) found at path c:\\users\\ljcornel\\pycharmprojects\\frameworks.ai.interactive-ai-workflow.sonoma-creek-api-tools\\data\n"
     ]
    }
   ],
   "source": [
    "from sc_api_tools.demos import get_coco_dataset\n",
    "\n",
    "COCO_PATH = get_coco_dataset()"
   ]
  },
  {
   "cell_type": "code",
   "execution_count": 4,
   "id": "0371676e-2182-4ed8-ac05-1946c21dfe81",
   "metadata": {},
   "outputs": [
    {
     "name": "stdout",
     "output_type": "stream",
     "text": [
      "Datumaro dataset consisting of 5000 items in coco format was loaded from c:\\users\\ljcornel\\pycharmprojects\\frameworks.ai.interactive-ai-workflow.sonoma-creek-api-tools\\data\n",
      "Datumaro dataset was created in 7.3 seconds\n",
      "After filtering, dataset with labels ['horse'] contains 128 items.\n",
      "Project created successfully.\n",
      "Starting image upload...\n",
      "Upload complete. Uploaded 12 new images in 2.7 seconds.\n",
      "Annotations have been converted to boxes\n",
      "Dataset is prepared for detection task.\n",
      "Starting image annotation upload...\n",
      "Upload complete. Uploaded 12 new image annotations\n"
     ]
    }
   ],
   "source": [
    "from sc_api_tools.annotation_readers import DatumAnnotationReader\n",
    "\n",
    "# Create the annotation reader and select the images with 'horse' in them\n",
    "annotation_reader = DatumAnnotationReader(base_data_folder=COCO_PATH, annotation_format='coco')\n",
    "annotation_reader.filter_dataset(labels=['horse'])\n",
    "\n",
    "# Create the project, upload images and annotations\n",
    "project = client.create_single_task_project_from_dataset(\n",
    "    project_name='COCO horse detection demo',\n",
    "    project_type='detection',\n",
    "    path_to_images=COCO_PATH,\n",
    "    annotation_reader=annotation_reader,\n",
    "    number_of_images_to_upload=12, \n",
    "    number_of_images_to_annotate=12,\n",
    "    enable_auto_train=True\n",
    ")"
   ]
  },
  {
   "cell_type": "markdown",
   "id": "4e5800e5-ed4a-4dfb-a3b3-2380149866ce",
   "metadata": {},
   "source": [
    "#### Option 2: Using an existing project \n",
    "If you prefer to use an existing project, the following cell will list all projects in the current workspace so that you can select one"
   ]
  },
  {
   "cell_type": "code",
   "execution_count": 5,
   "id": "a7521def-874f-401a-b2d7-5b78020a291a",
   "metadata": {},
   "outputs": [
    {
     "name": "stdout",
     "output_type": "stream",
     "text": [
      "7 projects were found on the platform:\n",
      "\n",
      " Project: COCO horse detection demo\n",
      "  Task 1: Detection task\n",
      "    Labels: ['horse', 'No Object']\n",
      "\n",
      "\n",
      " Project: Weeds\n",
      "  Task 1: Detection task\n",
      "    Labels: ['pot', 'No Object']\n",
      "  Task 2: Segmentation task\n",
      "    Labels: ['clover', 'broadleaf', 'Empty']\n",
      "\n",
      "\n",
      " Project: Bottle Anomaly Classification\n",
      "  Task 1: Anomaly task\n",
      "    Labels: ['Normal', 'Anomalous']\n",
      "\n",
      "\n",
      " Project: Bottle Quality Control\n",
      "  Task 1: Classification task\n",
      "    Labels: ['Good', 'Bad']\n",
      "\n",
      "\n",
      " Project: Weld classification\n",
      "  Task 1: Classification task\n",
      "    Labels: ['Good', 'bad', 'empty']\n",
      "\n",
      "\n",
      " Project: COCO animal detection demo\n",
      "  Task 1: Detection task\n",
      "    Labels: ['dog', 'horse', 'cat', 'No Object']\n",
      "\n",
      "\n",
      " Project: COCO anomalous animal demo\n",
      "  Task 1: Detection task\n",
      "    Labels: ['animal', 'No Object']\n",
      "  Task 2: Anomaly classification task\n",
      "    Labels: ['Normal', 'Anomalous']\n",
      "\n",
      "\n"
     ]
    }
   ],
   "source": [
    "projects = project_manager.list_projects()"
   ]
  },
  {
   "cell_type": "markdown",
   "id": "af875b3f-1dc8-4062-9ed5-394d3eb9bb78",
   "metadata": {},
   "source": [
    "Change the `project_name` here to select your project of choice"
   ]
  },
  {
   "cell_type": "code",
   "execution_count": 6,
   "id": "239f11f6-7850-4495-9741-6dbfed3090cc",
   "metadata": {},
   "outputs": [],
   "source": [
    "project = project_manager.get_project_by_name(project_name=\"COCO horse detection demo\")"
   ]
  },
  {
   "cell_type": "markdown",
   "id": "41254c51-7bdd-48f2-abc9-49a1d027ad9a",
   "metadata": {},
   "source": [
    "## Getting an image \n",
    "Now that we have a project we can get an image to modify. Let's get a list of all images in the project, and select the first one in the list as our target image"
   ]
  },
  {
   "cell_type": "code",
   "execution_count": 9,
   "id": "f383c3ab-3ba3-46c4-af7b-efd7cc1d39d9",
   "metadata": {},
   "outputs": [
    {
     "name": "stdout",
     "output_type": "stream",
     "text": [
      "Project 'COCO horse detection demo' contains 12 images\n",
      "{'id': '6204ffd7fda2266ee82ecc10',\n",
      " 'media_information': {'display_url': '/api/v1.0/workspaces/62038997fda2266ee82eb971/projects/6204ffd4fda2266ee82ecc08/datasets/6204ffd4fda2266ee82ecc07/media/images/6204ffd7fda2266ee82ecc10/display/full ',\n",
      "                       'height': 440,\n",
      "                       'width': 640},\n",
      " 'name': '000000016228',\n",
      " 'state': 'annotated',\n",
      " 'thumbnail': '/api/v1.0/workspaces/62038997fda2266ee82eb971/projects/6204ffd4fda2266ee82ecc08/datasets/6204ffd4fda2266ee82ecc07/media/images/6204ffd7fda2266ee82ecc10/display/thumb',\n",
      " 'type': 'image',\n",
      " 'upload_time': '2022-02-10T12:06:47.483000+00:00'}\n"
     ]
    }
   ],
   "source": [
    "from sc_api_tools.rest_managers import ImageManager\n",
    "\n",
    "image_manager = ImageManager(session=client.session, workspace_id=client.workspace_id, project=project)\n",
    "\n",
    "images = image_manager.get_all_images()\n",
    "print(f\"Project '{project.name}' contains {len(images)} images\")\n",
    "\n",
    "image = images[0]"
   ]
  },
  {
   "cell_type": "markdown",
   "id": "2aade4ba-a9c8-45b1-9746-1fdc8090ff16",
   "metadata": {},
   "source": [
    "## Converting to grayscale\n",
    "To convert the image to grayscale, we first have to fetch the pixel data from the platform. This can be done using the `image.get_data()` method. This method takes the `client.session` attribute as it's argument, since this is used to connect to the platform.\n",
    "\n",
    "In the cell below we fetch the image data and convert it to grayscale. At the end, `cv2.imshow` is used to show the resulting image. This will open up a separate window, displaying the image."
   ]
  },
  {
   "cell_type": "code",
   "execution_count": 11,
   "id": "f5bc44b8-2ff8-46ec-aef7-613fa8be62bb",
   "metadata": {},
   "outputs": [
    {
     "data": {
      "text/plain": [
       "-1"
      ]
     },
     "execution_count": 11,
     "metadata": {},
     "output_type": "execute_result"
    }
   ],
   "source": [
    "import cv2\n",
    "\n",
    "image_numpy = image.get_data(session=client.session)\n",
    "\n",
    "# Convert numpy data to grayscale\n",
    "grayscale_numpy = cv2.cvtColor(image_numpy, cv2.COLOR_RGB2GRAY)\n",
    "\n",
    "cv2.imshow('Grayscale image', grayscale_numpy)\n",
    "cv2.waitKey()"
   ]
  },
  {
   "cell_type": "markdown",
   "id": "978531c0-da34-42c7-860b-7ebe18c7cb8c",
   "metadata": {},
   "source": [
    "#### Uploading the grayscale image\n",
    "Let's upload the new image to the project"
   ]
  },
  {
   "cell_type": "code",
   "execution_count": 13,
   "id": "eb330f51-f3f9-4649-8ac1-eb708bb35e33",
   "metadata": {},
   "outputs": [
    {
     "name": "stdout",
     "output_type": "stream",
     "text": [
      "Project 'COCO horse detection demo' contains 13 images\n"
     ]
    }
   ],
   "source": [
    "grayscale_image = image_manager.upload_image(image=grayscale_numpy)\n",
    "\n",
    "# Check that the number of images in the project increases by one when we do this\n",
    "images = image_manager.get_all_images()\n",
    "print(f\"Project '{project.name}' contains {len(images)} images\")"
   ]
  },
  {
   "cell_type": "markdown",
   "id": "1d24015d-290f-49d6-a1c4-09b26977496d",
   "metadata": {},
   "source": [
    "## Annotating the image\n",
    "Great, we have converted the image to grayscale and uploaded it to the project. However, currently it is still missing an annotation. Since the grayscale conversion of course did not affect the objects in the image, we can just apply the annotation from the original image to the grayscale image directly. \n",
    "\n",
    "To do so, we first need to set up an AnnotationManager for the project and retrieve the original annotation"
   ]
  },
  {
   "cell_type": "code",
   "execution_count": 24,
   "id": "2b39d7e1-202d-486e-96ea-5c8237da2431",
   "metadata": {},
   "outputs": [
    {
     "name": "stdout",
     "output_type": "stream",
     "text": [
      "{'annotations': [{'labels': [{'color': '#bb4698ff',\n",
      "                              'name': 'horse',\n",
      "                              'probability': 1.0,\n",
      "                              'source': {'id': 'N/A', 'type': 'N/A'}}],\n",
      "                  'shape': {'height': '0.454',\n",
      "                            'type': 'RECTANGLE',\n",
      "                            'width': '0.309',\n",
      "                            'x': '0.531',\n",
      "                            'y': '0.348'}}],\n",
      " 'kind': 'annotation'}\n"
     ]
    }
   ],
   "source": [
    "from sc_api_tools.rest_managers import AnnotationManager\n",
    "from sc_api_tools.utils import show_image_with_annotation_scene\n",
    "\n",
    "annotation_manager = AnnotationManager(session=client.session, workspace_id=client.workspace_id, project=project)\n",
    "\n",
    "# Retrieve the annotation for the original image\n",
    "annotation = annotation_manager.get_annotation(media_item=image)\n",
    "\n",
    "# Inspect the annotation\n",
    "print(annotation.overview)\n",
    "show_image_with_annotation_scene(image, annotation)"
   ]
  },
  {
   "cell_type": "markdown",
   "id": "4ba35780-c3d9-407c-9726-7d4445d163e3",
   "metadata": {},
   "source": [
    "Let's try getting the annotation for the grayscale image. It shouldn't return anything, since we haven't annotated it yet"
   ]
  },
  {
   "cell_type": "code",
   "execution_count": 19,
   "id": "6af2bd4b-f17b-4cfc-905b-a1fbca652073",
   "metadata": {},
   "outputs": [
    {
     "name": "stdout",
     "output_type": "stream",
     "text": [
      "None\n"
     ]
    }
   ],
   "source": [
    "grayscale_annotation = annotation_manager.get_annotation(media_item=grayscale_image)\n",
    "print(grayscale_annotation)"
   ]
  },
  {
   "cell_type": "markdown",
   "id": "5e6e0960-1c04-4628-9a4e-ddae149d14fb",
   "metadata": {},
   "source": [
    "#### Applying the annotation\n",
    "Alright, now we're all set to annotate the grayscale image. Note that we passed `media_item=grayscale_image` to the `get_annotation` method in the cell above. It's important to use the `grayscale_image` rather than `grayscale_numpy`, because the grayscale_image holds the actual reference to the image on the platform. grayscale_numpy is just the pixel data, and the annotation_manager wouldn't know how to handle it."
   ]
  },
  {
   "cell_type": "code",
   "execution_count": 20,
   "id": "860f5acc-8e52-4fa5-a6dc-43fe62fe4daf",
   "metadata": {},
   "outputs": [],
   "source": [
    "grayscale_annotation = annotation_manager.upload_annotation(media_item=grayscale_image, annotation_scene=annotation)\n",
    "\n",
    "# Inspect the annotation\n",
    "show_image_with_annotation_scene(grayscale_image.get_data(client.session), grayscale_annotation)"
   ]
  },
  {
   "cell_type": "markdown",
   "id": "4912aae2-b0a3-46fa-b84a-05bc1b9ae207",
   "metadata": {},
   "source": [
    "That's it! To make sure that the annotation was indeed uploaded for the correct image, let's try to get it again using the `get_annotation` method from the annotation_manager"
   ]
  },
  {
   "cell_type": "code",
   "execution_count": 26,
   "id": "c894ab7d-1869-4729-b6de-1ca16505cda2",
   "metadata": {},
   "outputs": [
    {
     "name": "stdout",
     "output_type": "stream",
     "text": [
      "{'annotations': [{'labels': [{'color': '#bb4698ff',\n",
      "                              'name': 'horse',\n",
      "                              'probability': 1.0,\n",
      "                              'source': {'id': 'N/A', 'type': 'N/A'}}],\n",
      "                  'shape': {'height': '0.454',\n",
      "                            'type': 'RECTANGLE',\n",
      "                            'width': '0.309',\n",
      "                            'x': '0.531',\n",
      "                            'y': '0.348'}}],\n",
      " 'kind': 'annotation'}\n"
     ]
    }
   ],
   "source": [
    "grayscale_annotation = annotation_manager.get_annotation(media_item=grayscale_image)\n",
    "print(grayscale_annotation.overview)"
   ]
  },
  {
   "cell_type": "markdown",
   "id": "14ec112c-718e-444e-a89b-94027535241a",
   "metadata": {},
   "source": [
    "## Deleting the original image\n",
    "This last step is optional: It deletes the RGB image from the project so that only the grayscale variant remains."
   ]
  },
  {
   "cell_type": "code",
   "execution_count": 27,
   "id": "10316464-302d-42b2-9d3a-134054c1c3e7",
   "metadata": {},
   "outputs": [
    {
     "name": "stdout",
     "output_type": "stream",
     "text": [
      "Deleting 1 images from project 'COCO horse detection demo'...\n"
     ]
    }
   ],
   "source": [
    "image_manager.delete_images([image])"
   ]
  },
  {
   "cell_type": "code",
   "execution_count": null,
   "id": "1aa2c332-7d29-420e-bb96-f30565110d39",
   "metadata": {},
   "outputs": [],
   "source": []
  }
 ],
 "metadata": {
  "kernelspec": {
   "display_name": "Python 3 (ipykernel)",
   "language": "python",
   "name": "python3"
  },
  "language_info": {
   "codemirror_mode": {
    "name": "ipython",
    "version": 3
   },
   "file_extension": ".py",
   "mimetype": "text/x-python",
   "name": "python",
   "nbconvert_exporter": "python",
   "pygments_lexer": "ipython3",
   "version": "3.8.0"
  }
 },
 "nbformat": 4,
 "nbformat_minor": 5
}
