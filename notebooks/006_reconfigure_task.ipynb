{
 "cells": [
  {
   "cell_type": "markdown",
   "id": "eb6c85c8-81c5-4cfc-98ac-297e2524c6aa",
   "metadata": {},
   "source": [
    "# Reconfiguring the model for a task\n",
    "In this notebook we'll have a look at how to interact with model and task configurations, and how to reconfigure the model for a certain task in the project."
   ]
  },
  {
   "cell_type": "code",
   "execution_count": 1,
   "id": "4ebd0b09-0adb-4197-a3f2-3add32dbe2c9",
   "metadata": {},
   "outputs": [
    {
     "name": "stdout",
     "output_type": "stream",
     "text": [
      "Authenticating on host https://10.91.242.203/...\n",
      "Authentication successful. Cookie received.\n"
     ]
    }
   ],
   "source": [
    "# As usual we'll connnect to the platform first, and create the project manager\n",
    "\n",
    "from sc_api_tools import SCRESTClient\n",
    "from sc_api_tools.rest_managers import ProjectManager\n",
    "\n",
    "client = SCRESTClient(\n",
    "    host='https://10.91.242.203/',\n",
    "    username='sc-api-tools@intel.com',\n",
    "    password='Inteldemos!'\n",
    ")\n",
    "project_manager = ProjectManager(session=client.session, workspace_id=client.workspace_id)"
   ]
  },
  {
   "cell_type": "markdown",
   "id": "e04e785e-31b1-4982-abda-22b5e9c3f625",
   "metadata": {},
   "source": [
    "#### Selecting a project\n",
    "Let's get a list of projects in the workspace, and select the project `COCO anomalous animal demo` that we created in notebook [004 create pipeline project from dataset](004_create_pipeline_project_from_dataset.ipynb). Feel free to use a different project by changing the `PROJECT_NAME` variable"
   ]
  },
  {
   "cell_type": "code",
   "execution_count": 2,
   "id": "a3ca66c8-b40e-454d-aaa0-99b937c6e5c1",
   "metadata": {},
   "outputs": [
    {
     "name": "stdout",
     "output_type": "stream",
     "text": [
      "7 projects were found on the platform:\n",
      "\n",
      " Project: COCO horse detection demo\n",
      "  Task 1: Detection task\n",
      "    Labels: ['horse', 'No Object']\n",
      "\n",
      "\n",
      " Project: Weeds\n",
      "  Task 1: Detection task\n",
      "    Labels: ['pot', 'No Object']\n",
      "  Task 2: Segmentation task\n",
      "    Labels: ['clover', 'broadleaf', 'Empty']\n",
      "\n",
      "\n",
      " Project: Bottle Anomaly Classification\n",
      "  Task 1: Anomaly task\n",
      "    Labels: ['Normal', 'Anomalous']\n",
      "\n",
      "\n",
      " Project: Bottle Quality Control\n",
      "  Task 1: Classification task\n",
      "    Labels: ['Good', 'Bad']\n",
      "\n",
      "\n",
      " Project: Weld classification\n",
      "  Task 1: Classification task\n",
      "    Labels: ['Good', 'bad', 'empty']\n",
      "\n",
      "\n",
      " Project: COCO animal detection demo\n",
      "  Task 1: Detection task\n",
      "    Labels: ['dog', 'horse', 'cat', 'No Object']\n",
      "\n",
      "\n",
      " Project: COCO anomalous animal demo\n",
      "  Task 1: Detection task\n",
      "    Labels: ['animal', 'No Object']\n",
      "  Task 2: Anomaly classification task\n",
      "    Labels: ['Normal', 'Anomalous']\n",
      "\n",
      "\n"
     ]
    }
   ],
   "source": [
    "PROJECT_NAME = 'COCO anomalous animal demo'\n",
    "projects = project_manager.list_projects()\n",
    "\n",
    "project = project_manager.get_project_by_name(PROJECT_NAME)"
   ]
  },
  {
   "cell_type": "markdown",
   "id": "81bdf9d7-bf20-4323-b827-4e76e50d86c9",
   "metadata": {},
   "source": [
    "## Configuring a task in the project\n",
    "\n",
    "#### Setting up the ConfigurationManager\n",
    "To be able to inspect and change the project's configuration, we'll need to set up a ConfigurationManager for the project."
   ]
  },
  {
   "cell_type": "code",
   "execution_count": 3,
   "id": "294b15c7-c8f3-46e0-88f1-9c5b8b94ed0a",
   "metadata": {},
   "outputs": [],
   "source": [
    "from sc_api_tools.rest_managers import ConfigurationManager\n",
    "\n",
    "configuration_manager = ConfigurationManager(session=client.session, workspace_id=client.workspace_id, project=project)"
   ]
  },
  {
   "cell_type": "markdown",
   "id": "e319d056-10ab-4bbc-9996-647c28e6578c",
   "metadata": {},
   "source": [
    "#### Selecting the task to configure\n",
    "The project `COCO anomalous animal demo` has two tasks: let's select the first one as an example"
   ]
  },
  {
   "cell_type": "code",
   "execution_count": 4,
   "id": "7508fb8e-d1a2-4b05-8fc4-a8339002fd62",
   "metadata": {},
   "outputs": [
    {
     "name": "stdout",
     "output_type": "stream",
     "text": [
      "Task: Detection task\n",
      "  Type: detection \n",
      "  Labels:\n",
      "    Name: animal,  Group: default_detection,  Parent: None\n",
      "    Name: No Object,  Group: No Object,  Parent: None\n",
      "\n"
     ]
    }
   ],
   "source": [
    "task = project.get_trainable_tasks()[0]\n",
    "print(task.summary)"
   ]
  },
  {
   "cell_type": "markdown",
   "id": "241678e3-8df8-4a19-8d74-8ecdc9d5e0d1",
   "metadata": {},
   "source": [
    "#### Getting the task configuration\n",
    "With the configuration_manager and task ready, we can request the configuration for the task"
   ]
  },
  {
   "cell_type": "code",
   "execution_count": 5,
   "id": "5357dbd8-d4b7-417f-94a6-04f30ca91898",
   "metadata": {},
   "outputs": [
    {
     "name": "stdout",
     "output_type": "stream",
     "text": [
      "Configuration for Detection task:\n",
      "  Learning Parameters\n",
      "  Batch size -- Name: batch_size -- Value: 8\n",
      "  Learning rate -- Name: learning_rate -- Value: 0.008\n",
      "  Number of iterations for learning rate warmup -- Name: learning_rate_warmup_iters -- Value: 200\n",
      "  Number of training iterations -- Name: num_iters -- Value: 100\n",
      "  Number of cpu threads to use during batch generation -- Name: num_workers -- Value: 4\n",
      "\n",
      "  Optimization by NNCF\n",
      "  Enable filter pruning algorithm -- Name: enable_pruning -- Value: False\n",
      "  Enable quantization algorithm -- Name: enable_quantization -- Value: True\n",
      "  Maximum accuracy degradation -- Name: maximal_accuracy_degradation -- Value: 1.0\n",
      "\n",
      "  Postprocessing\n",
      "  Confidence threshold -- Name: confidence_threshold -- Value: 0.35\n",
      "  Result based confidence threshold -- Name: result_based_confidence_threshold -- Value: True\n",
      "\n",
      "  POT Parameters\n",
      "  Preset -- Name: preset -- Value: Performance\n",
      "  Number of data samples -- Name: stat_subset_size -- Value: 300\n",
      "\n",
      "  Subset splitting\n",
      "  Automatically determine subset proportions -- Name: auto_subset_fractions -- Value: True\n",
      "  Subset distribution\n",
      "  Test set proportion -- Name: test_proportion -- Value: 0.3\n",
      "  Training set proportion -- Name: train_proportion -- Value: 0.5\n",
      "  Validation set proportion -- Name: validation_proportion -- Value: 0.2\n",
      "\n",
      "\n",
      "  Annotation requirements\n",
      "  Label constraint for the first training -- Name: label_constraint_first_training -- Value: False\n",
      "  Number of images required for the first training -- Name: required_images_first_training -- Value: 12\n",
      "  Number of images required for retraining -- Name: required_images_retraining -- Value: 6\n",
      "\n",
      "  General\n",
      "  Auto-training -- Name: auto_training -- Value: True\n",
      "\n",
      "\n"
     ]
    }
   ],
   "source": [
    "task_configuration = configuration_manager.get_task_configuration(task_id=task.id)\n",
    "print(task_configuration.summary)"
   ]
  },
  {
   "cell_type": "markdown",
   "id": "50ac6d40-5899-4003-9024-aa1503437ad4",
   "metadata": {},
   "source": [
    "### Changing the task configuration\n",
    "The method `configuration_manager.apply_task_configuration` allows us to reconfigure the task. "
   ]
  },
  {
   "cell_type": "code",
   "execution_count": null,
   "id": "faaa9cdf-2e1c-42d6-ac78-3661c8524e17",
   "metadata": {},
   "outputs": [],
   "source": [
    "configuration_manager."
   ]
  }
 ],
 "metadata": {
  "kernelspec": {
   "display_name": "Python 3 (ipykernel)",
   "language": "python",
   "name": "python3"
  },
  "language_info": {
   "codemirror_mode": {
    "name": "ipython",
    "version": 3
   },
   "file_extension": ".py",
   "mimetype": "text/x-python",
   "name": "python",
   "nbconvert_exporter": "python",
   "pygments_lexer": "ipython3",
   "version": "3.8.0"
  }
 },
 "nbformat": 4,
 "nbformat_minor": 5
}
